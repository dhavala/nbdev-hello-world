{
 "cells": [
  {
   "cell_type": "markdown",
   "id": "3381b02f",
   "metadata": {},
   "source": [
    "# Data Scaling Laws\n",
    "> How many samples you need?"
   ]
  },
  {
   "cell_type": "markdown",
   "id": "cd49f9b2",
   "metadata": {},
   "source": [
    "## Sec F1.1\n",
    "inside a folder f1, sec 1\n",
    "\n",
    "### Sec F1.2\n",
    "inside a folder f1, sec 1.1\n",
    "\n",
    "## Sec F1.2\n",
    "inside a folder f1, sec 2\n",
    "\n",
    "### Sec F1.2\n",
    "inside a folder f1, sec 2.1\n",
    "\n",
    "#### Sec F1.2\n",
    "inside a folder f1, sec 2.1.1"
   ]
  },
  {
   "cell_type": "code",
   "execution_count": null,
   "id": "53958193",
   "metadata": {},
   "outputs": [
    {
     "name": "stdout",
     "output_type": "stream",
     "text": [
      "you will not see this\n"
     ]
    }
   ],
   "source": [
    "#|hide\n",
    "print('you will not see this')"
   ]
  },
  {
   "cell_type": "code",
   "execution_count": null,
   "id": "6cfdeb28",
   "metadata": {},
   "outputs": [
    {
     "name": "stdout",
     "output_type": "stream",
     "text": [
      "you will not see this\n"
     ]
    }
   ],
   "source": [
    "#|include: false\n",
    "print('you will not see this')"
   ]
  },
  {
   "cell_type": "code",
   "execution_count": null,
   "id": "d9497e07",
   "metadata": {},
   "outputs": [
    {
     "name": "stdout",
     "output_type": "stream",
     "text": [
      "you can see the output but not the code!\n"
     ]
    }
   ],
   "source": [
    "#|echo: false\n",
    "print('you can see the output but not the code!')"
   ]
  },
  {
   "cell_type": "code",
   "execution_count": null,
   "id": "33a763b8",
   "metadata": {},
   "outputs": [
    {
     "data": {
      "text/plain": [
       "2"
      ]
     },
     "execution_count": null,
     "metadata": {},
     "output_type": "execute_result"
    }
   ],
   "source": [
    "#|output: false\n",
    "1 + 1"
   ]
  },
  {
   "cell_type": "code",
   "execution_count": null,
   "id": "1f33c7c4",
   "metadata": {},
   "outputs": [
    {
     "name": "stdout",
     "output_type": "stream",
     "text": [
      "`hello fastai`\n"
     ]
    }
   ],
   "source": [
    "#|output: asis\n",
    "print(\"`hello fastai`\")"
   ]
  },
  {
   "cell_type": "code",
   "execution_count": null,
   "id": "3b15489f",
   "metadata": {},
   "outputs": [],
   "source": [
    "#| default_exp baz\n",
    "\n",
    "# In a new notebook cell:\n",
    "\n",
    "#| export\n",
    "def my_function(): pass"
   ]
  }
 ],
 "metadata": {
  "kernelspec": {
   "display_name": "Python [conda env:blogs] *",
   "language": "python",
   "name": "conda-env-blogs-py"
  }
 },
 "nbformat": 4,
 "nbformat_minor": 5
}
