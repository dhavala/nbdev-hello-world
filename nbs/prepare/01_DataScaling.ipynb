{
 "cells": [
  {
   "cell_type": "markdown",
   "id": "3381b02f",
   "metadata": {},
   "source": [
    "# Prepare 01\n",
    "> Data Scaling Laws"
   ]
  },
  {
   "cell_type": "markdown",
   "id": "cd49f9b2",
   "metadata": {},
   "source": [
    "## Sec F1.1\n",
    "inside a folder f1, sec 1\n",
    "\n",
    "### Sec F1.2\n",
    "inside a folder f1, sec 1.1\n",
    "\n",
    "## Sec F1.2\n",
    "inside a folder f1, sec 2\n",
    "\n",
    "### Sec F1.2\n",
    "inside a folder f1, sec 2.1\n",
    "\n",
    "#### Sec F1.2\n",
    "inside a folder f1, sec 2.1.1"
   ]
  },
  {
   "cell_type": "code",
   "execution_count": null,
   "id": "53958193",
   "metadata": {},
   "outputs": [],
   "source": []
  }
 ],
 "metadata": {
  "kernelspec": {
   "display_name": "Python [conda env:blogs] *",
   "language": "python",
   "name": "conda-env-blogs-py"
  }
 },
 "nbformat": 4,
 "nbformat_minor": 5
}
